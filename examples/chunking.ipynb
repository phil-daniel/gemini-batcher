{
 "cells": [
  {
   "cell_type": "markdown",
   "id": "7fbfbc6a",
   "metadata": {},
   "source": [
    "# Chunking Examples"
   ]
  },
  {
   "cell_type": "markdown",
   "id": "bcc676ff",
   "metadata": {},
   "source": [
    "## Setup"
   ]
  },
  {
   "cell_type": "code",
   "execution_count": null,
   "id": "f4a2af76",
   "metadata": {},
   "outputs": [],
   "source": [
    "%pip install -U -q \"google-genai>=1.0.0\"  # Install the Python SDK"
   ]
  },
  {
   "cell_type": "markdown",
   "id": "20b25fb9",
   "metadata": {},
   "source": [
    "To run the following cell, your API key must be stored it in a Colab Secret named `GOOGLE_API_KEY`. If you don't already have an API key, or you're not sure how to create a Colab Secret, see the [Authentication](../quickstarts/Authentication.ipynb) quickstart for an example."
   ]
  },
  {
   "cell_type": "code",
   "execution_count": null,
   "id": "bc937084",
   "metadata": {},
   "outputs": [],
   "source": [
    "from google.colab import userdata\n",
    "from google import genai\n",
    "\n",
    "GOOGLE_API_KEY = userdata.get('GOOGLE_API_KEY')\n",
    "client = genai.Client(api_key=GOOGLE_API_KEY)\n",
    "\n",
    "MODEL_ID = \"gemini-2.5-flash\""
   ]
  },
  {
   "cell_type": "code",
   "execution_count": null,
   "id": "a0007cd0",
   "metadata": {},
   "outputs": [],
   "source": [
    "from google.genai import types\n",
    "\n",
    "import requests\n",
    "import json\n",
    "import math\n",
    "\n",
    "questions = requests.get(\"https://raw.githubusercontent.com/phil-daniel/gemini-batcher/refs/heads/main/examples/demo_files/questions.txt\").text.split('\\n')\n",
    "content = requests.get(\"https://raw.githubusercontent.com/phil-daniel/gemini-batcher/refs/heads/main/examples/demo_files/content.txt\").text"
   ]
  },
  {
   "cell_type": "markdown",
   "id": "13a68ba2",
   "metadata": {},
   "source": [
    "# Chunking example 1 - fixed chunking\n",
    "In fixed chunking, the content is split into non-overlapping chunks each containing a set number of characters, in this case 10,000. An example of this can be seen below.\n",
    "\n",
    "<img src=\"https://raw.githubusercontent.com/phil-daniel/gemini-batcher/refs/heads/main/docs/concepts/images/fixed_chunking.svg\" alt=\"A visual example of fixed chunking.\" width=\"600\">"
   ]
  },
  {
   "cell_type": "code",
   "execution_count": null,
   "id": "82cfc3b7",
   "metadata": {},
   "outputs": [],
   "source": [
    "chunk_char_size = 10000\n",
    "chunked_content = []\n",
    "chunk_count = math.ceil(len(content) / chunk_char_size)\n",
    "\n",
    "for i in range(chunk_count):\n",
    "    chunk_start_pos = i * chunk_char_size\n",
    "    chunk_end_pos = min(chunk_start_pos + chunk_char_size, len(content))\n",
    "    chunked_content.append(content[chunk_start_pos : chunk_end_pos])\n",
    "\n",
    "print(f'Number of chunks: {len(chunked_content)}')"
   ]
  },
  {
   "cell_type": "markdown",
   "id": "f12a5fe2",
   "metadata": {},
   "source": [
    "## Chunking example 2 - sliding window chunking\n",
    "One disadvantage of fixed chunking is that since it breaks context at arbitrary positions, important information may get split between chunks, meaning that neither chunk contains enough information to fully answer a question.\n",
    "\n",
    "A simple solution to this is to follow a sliding window approach, where an overlap (called the window) between adjacent chunks is introduced. This increases the likelihood that a complete answer can be found within a single chunk, however can also increase the total number of chunks.\n",
    "\n",
    "An example of this can be seen below.\n",
    "\n",
    "<img src=\"https://raw.githubusercontent.com/phil-daniel/gemini-batcher/refs/heads/main/docs/concepts/images/sliding_window.svg\" alt=\"A visual example of sliding window chunking.\" width=\"600\">"
   ]
  },
  {
   "cell_type": "code",
   "execution_count": null,
   "id": "ea95b521",
   "metadata": {},
   "outputs": [],
   "source": [
    "chunk_char_size = 10000\n",
    "window_char_size = 2500\n",
    "\n",
    "chunked_content = []\n",
    "chunk_count = math.ceil(len(content) / (chunk_char_size - window_char_size))\n",
    "\n",
    "for i in range(chunk_count):\n",
    "    chunk_start_pos = i * (chunk_char_size - window_char_size)\n",
    "    chunk_end_pos = min(chunk_start_pos + chunk_char_size, len(content))\n",
    "    chunked_content.append(content[chunk_start_pos : chunk_end_pos])\n",
    "\n",
    "print(f'Number of chunks: {len(chunked_content)}')"
   ]
  }
 ],
 "metadata": {
  "kernelspec": {
   "display_name": "gsoc",
   "language": "python",
   "name": "python3"
  },
  "language_info": {
   "name": "python",
   "version": "3.11.11"
  }
 },
 "nbformat": 4,
 "nbformat_minor": 5
}
