{
  "cells": [
    {
      "cell_type": "markdown",
      "id": "7fbfbc6a",
      "metadata": {
        "id": "7fbfbc6a"
      },
      "source": [
        "# Other Techniques Examples"
      ]
    },
    {
      "cell_type": "markdown",
      "id": "bcc676ff",
      "metadata": {
        "id": "bcc676ff"
      },
      "source": [
        "## Setup"
      ]
    },
    {
      "cell_type": "code",
      "execution_count": 1,
      "id": "f4a2af76",
      "metadata": {
        "id": "f4a2af76"
      },
      "outputs": [],
      "source": [
        "%pip install -U -q \"google-genai>=1.0.0\"  # Install the Python SDK"
      ]
    },
    {
      "cell_type": "markdown",
      "id": "20b25fb9",
      "metadata": {
        "id": "20b25fb9"
      },
      "source": [
        "To run the following cell, your API key must be stored it in a Colab Secret named `GOOGLE_API_KEY`. If you don't already have an API key, or you're not sure how to create a Colab Secret, see the [Authentication](../quickstarts/Authentication.ipynb) quickstart for an example."
      ]
    },
    {
      "cell_type": "code",
      "execution_count": 2,
      "id": "bc937084",
      "metadata": {
        "id": "bc937084"
      },
      "outputs": [],
      "source": [
        "from google.colab import userdata\n",
        "from google import genai\n",
        "\n",
        "GOOGLE_API_KEY = userdata.get('GOOGLE_API_KEY')\n",
        "client = genai.Client(api_key=GOOGLE_API_KEY)\n",
        "\n",
        "MODEL_ID = \"gemini-2.5-flash\""
      ]
    },
    {
      "cell_type": "code",
      "execution_count": 3,
      "id": "a0007cd0",
      "metadata": {
        "id": "a0007cd0"
      },
      "outputs": [],
      "source": [
        "from google.genai import types\n",
        "\n",
        "import requests\n",
        "import json\n",
        "import math\n",
        "\n",
        "questions = requests.get(\"https://raw.githubusercontent.com/phil-daniel/gemini-batcher/refs/heads/main/examples/demo_files/questions.txt\").text.split('\\n')\n",
        "content = requests.get(\"https://raw.githubusercontent.com/phil-daniel/gemini-batcher/refs/heads/main/examples/demo_files/content.txt\").text"
      ]
    },
    {
      "cell_type": "markdown",
      "id": "13a68ba2",
      "metadata": {
        "id": "13a68ba2"
      },
      "source": [
        "## Token-Aware Chunking and Batching Example"
      ]
    },
    {
      "cell_type": "code",
      "execution_count": 4,
      "id": "82cfc3b7",
      "metadata": {
        "id": "82cfc3b7",
        "outputId": "cf6e8fff-d1ad-441d-bbac-aa0bdfc185aa",
        "colab": {
          "base_uri": "https://localhost:8080/"
        }
      },
      "outputs": [
        {
          "output_type": "stream",
          "name": "stdout",
          "text": [
            "First 10 Answers:\n",
            "What is the goal of MIT 6.00 (Introduction to Computer Science and Programming)?\n",
            "\tTo help everybody learn about computation and to learn how to think like a computer scientist.\n",
            "Who teaches the course?\n",
            "\tProfessor Eric Grimson and Professor John Guttag.\n",
            "What kind of students is this course intended for?\n",
            "\tStudents with little or no prior programming experience.\n",
            "What are the strategic and tactical goals of the course?\n",
            "\tStrategic goals include preparing freshmen and sophomores for Course 6, helping non-Course 6 majors write and read small pieces of code, providing an understanding of computation's role in technical problems, and positioning students for jobs. Tactical goals include using computational thinking to write small programs, understanding programs written by others, understanding the capabilities and limitations of computations, and mapping scientific problems into a computational frame.\n",
            "How is the course structured (lectures, recitations, workload)?\n",
            "\tThe course is structured with two hours of lecture a week, one hour of recitation a week on Fridays, and nine hours a week of outside-the-class work, primarily focused on problem sets.\n",
            "What programming language is used in the course?\n",
            "\tPython.\n",
            "Are there any textbooks required for the course?\n",
            "\tNo, there is no required text, but one is suggested on the course website.\n",
            "How are grades calculated in the course?\n",
            "\tGrades are calculated with 55% from problem sets and the remaining 45% from quizzes and a final exam, broken down as 10% for one quiz, 15% for the other quiz, and 20% for the final exam.\n",
            "How are quizzes and exams administered (e.g., open book)?\n",
            "\tQuizzes and exams are open note and open book.\n",
            "What are the expectations regarding lecture and recitation attendance?\n",
            "\tLecture attendance is not mandatory, but students are expected to be familiar with material covered in lectures and assigned readings. Recitation attendance is considered very important and is expected, as material not covered in lectures or readings will be presented.\n"
          ]
        }
      ],
      "source": [
        "system_prompt = \"\"\"\n",
        "    Answer each of the inputted questions using the information provided to you in the prompt. Each answer should be a **single** string in the JSON response.\n",
        "    There should be **exactly** one answer for each inputted question, no more, no less.\n",
        "    * **Accuracy and Precision:** Provide direct, factual answers. **Do not** create or merge any of the questions.\n",
        "    * **Source Constraint:** Use *only* information explicitly present in the transcript. Do not infer, speculate, or bring in outside knowledge.\n",
        "    * **Completeness:** Ensure each answer fully addresses the question, *to the extent possible with the given transcript*.\n",
        "    * **Missing Information:** If the information required to answer a question is not discussed or cannot be directly derived from the transcript, respond with \"N/A\".\n",
        "\"\"\"\n",
        "\n",
        "model_name = \"gemini-2.5-flash\"\n",
        "input_token_limit = client.models.get(model = model_name).input_token_limit # Retrieving the input token limit of the specified model\n",
        "\n",
        "answers = {}\n",
        "\n",
        "# Beginning with attempting to make an API call with the entire content & questions, if this fails we can break it up as appropriate.\n",
        "queue = [(content, questions)]\n",
        "\n",
        "while len(queue) > 0:\n",
        "    curr_content, curr_questions = queue.pop(0)\n",
        "\n",
        "    # Checking whether the input token limit is exceeded.\n",
        "    input_tokens_required = client.models.count_tokens(\n",
        "        model = model_name,\n",
        "        contents = [curr_content, curr_content]\n",
        "    ).total_tokens\n",
        "    if input_tokens_required > input_token_limit:\n",
        "        # In this case we know that an API call with the current content will exceed the input token limit for the current model.\n",
        "        # If this is the case, we split the content in half so each API call processes half of the content.\n",
        "        chunked_content = [curr_content[0 : len(curr_content)//2 + 1], curr_content[len(curr_content)//2 + 1 : len(curr_content)]]\n",
        "        queue.append((chunked_content[0], curr_questions))\n",
        "        queue.append((chunked_content[1], curr_questions))\n",
        "        continue\n",
        "\n",
        "    # Making the API call to the Gemini model\n",
        "    response = client.models.generate_content(\n",
        "        model=\"gemini-2.5-flash\",\n",
        "        config=types.GenerateContentConfig(\n",
        "            system_instruction=system_prompt,\n",
        "            response_mime_type = \"application/json\",\n",
        "            response_schema = list[str]\n",
        "        ),\n",
        "        contents=[f'Content:\\n{curr_content}', f'\\nQuestion:\\n{curr_questions}']\n",
        "    )\n",
        "\n",
        "    # Checking the finish reason of token generation, anything other than 'STOP' is unnatural.\n",
        "    if response.candidates[0].finish_reason == types.FinishReason.MAX_TOKENS:\n",
        "        # In this case we know that token generation finished due to max token limit being exceeded, therefore we likely have not recieved a full answer.\n",
        "        # We will therefore retry the API call but split the questions into batches of half the sizes to reduce the output.\n",
        "        batch1, batch2 = curr_questions[0 : len(curr_questions)//2 + 1], curr_content[len(curr_questions)//2 + 1 : len(curr_questions)]\n",
        "        queue.append((curr_content, batch1))\n",
        "        queue.append((curr_content, batch2))\n",
        "        continue\n",
        "\n",
        "    response_parsed = json.loads(response.text)\n",
        "\n",
        "    for i in range(len(curr_questions)):\n",
        "        answers[curr_questions[i]] = response_parsed[i]\n",
        "\n",
        "print(\"First 10 Answers:\")\n",
        "for key in (list(answers.keys())[:10]):\n",
        "    print (f\"{key}\\n\\t{answers[key]}\")"
      ]
    },
    {
      "cell_type": "markdown",
      "id": "f12a5fe2",
      "metadata": {
        "id": "f12a5fe2"
      },
      "source": [
        "## Semantic Batching and Chunking Example\n",
        "\n",
        "Step 1: Generating chunks semantically"
      ]
    },
    {
      "cell_type": "code",
      "execution_count": 6,
      "id": "ea95b521",
      "metadata": {
        "id": "ea95b521",
        "outputId": "cc5fd7a1-2ba6-4de6-b209-988269604a09",
        "colab": {
          "base_uri": "https://localhost:8080/"
        }
      },
      "outputs": [
        {
          "output_type": "stream",
          "name": "stdout",
          "text": [
            "5\n"
          ]
        }
      ],
      "source": [
        "from sentence_transformers import SentenceTransformer\n",
        "from sklearn.metrics.pairwise import cosine_similarity\n",
        "import numpy as np\n",
        "import re\n",
        "\n",
        "transformer_model = 'all-MiniLM-L6-v2'\n",
        "threshold_factor = 0.5\n",
        "min_sentences_per_chunk = 150\n",
        "max_sentences_per_chunk = 250\n",
        "\n",
        "# Splitting sentences and stripping excess detail\n",
        "sentences = re.split(r'(?<=[.!?])\\s+', content)\n",
        "sentences = [sentence.strip() for sentence in sentences]\n",
        "\n",
        "model = SentenceTransformer(transformer_model)\n",
        "\n",
        "# Creating sentence embeddings using the SentenceTransformer model\n",
        "sentence_embeddings = model.encode(sentences)\n",
        "\n",
        "# Calculating the similarity between adjacent embeddings\n",
        "similarities = []\n",
        "for i in range(len(sentence_embeddings) - 1):\n",
        "    # Reshape for cosine_similarity: (1, n_features) for each vector\n",
        "    s1 = sentence_embeddings[i].reshape(1, -1)\n",
        "    s2 = sentence_embeddings[i+1].reshape(1, -1)\n",
        "    similarity = cosine_similarity(s1, s2)[0][0]\n",
        "    similarities.append(similarity)\n",
        "\n",
        "# Calculating a threshold value for cosine similarity.\n",
        "mean = np.mean(similarities)\n",
        "std_dev = np.std(similarities)\n",
        "similarity_threshold = mean - (std_dev * threshold_factor)\n",
        "\n",
        "boundaries = [0]\n",
        "current_chunk_start_pos = 0\n",
        "for i in range(len(similarities)):\n",
        "    # Checking if there is a natural boundary.\n",
        "    if similarities[i] < similarity_threshold and (i + 1) - current_chunk_start_pos >= min_sentences_per_chunk:\n",
        "        boundaries.append(i+1)\n",
        "        current_chunk_start_pos = i + 1\n",
        "    elif (i+1) - current_chunk_start_pos >= max_sentences_per_chunk:\n",
        "        boundaries.append(i+1)\n",
        "        current_chunk_start_pos = i + 1\n",
        "\n",
        "# Adding the end point if it has not already been added\n",
        "if boundaries[-1] != len(similarities) + 1:\n",
        "    boundaries.append(len(similarities) + 1)\n",
        "\n",
        "# Creating the chunks based on the boundaries.\n",
        "content_chunks = []\n",
        "for i in range(len(boundaries) - 1):\n",
        "    content_chunks.append(\" \".join(sentences[boundaries[i] : boundaries[i+1]]))\n",
        "\n",
        "print (len(content_chunks))"
      ]
    },
    {
      "cell_type": "markdown",
      "id": "e9662e5e",
      "metadata": {
        "id": "e9662e5e"
      },
      "source": [
        "Step 2: Generating batches semantically based on chunks"
      ]
    },
    {
      "cell_type": "code",
      "execution_count": 7,
      "id": "835685a8",
      "metadata": {
        "id": "835685a8",
        "outputId": "c957ab16-47a6-422e-c3d3-da0047025de6",
        "colab": {
          "base_uri": "https://localhost:8080/"
        }
      },
      "outputs": [
        {
          "output_type": "stream",
          "name": "stdout",
          "text": [
            "[['What is the goal of MIT 6.00 (Introduction to Computer Science and Programming)?', 'Who teaches the course?', 'What kind of students is this course intended for?', 'What are the strategic and tactical goals of the course?', 'What programming language is used in the course?', 'Are there any textbooks required for the course?', 'How are grades calculated in the course?', 'What does it mean to think like a computer scientist?'], ['How is the course structured (lectures, recitations, workload)?', 'How are quizzes and exams administered (e.g., open book)?', 'What are the expectations regarding lecture and recitation attendance?', 'Why are class notes not handed out?'], ['What is computation?', 'How do we capture imperative knowledge in a computer?', 'What is a fixed-program computer?', 'What is a stored-program computer?', 'What are the components of a stored-program computer?', 'What is a recipe in the context of computation?', 'What is the significance of Alan Turing’s work to computation?', 'What does it mean for programming languages to be Turing complete?'], ['What is the difference between declarative and imperative knowledge?', 'Why is Python used in this course?', 'What are the characteristics of Python as a language (e.g., high-level, interpreted)?', 'What is syntax vs. semantics in programming?', 'What is the difference between expressions and commands/statements in Python?', 'What are the primitive data types in Python?', 'What are some common errors in Python (e.g., syntax errors, static semantic errors)?', 'How does Python handle variables and assignment?'], ['What are static semantics?', 'What are examples of operations on numbers and strings in Python?']]\n"
          ]
        }
      ],
      "source": [
        "# Creating a batch for each chunk. Each batch only contains the questions for its respective chunks.\n",
        "question_batches = [[] for _ in range(len(content_chunks))]\n",
        "\n",
        "# Creating embeddings for each question.\n",
        "question_embeddings = model.encode(questions)\n",
        "# Creating an embeddings for each chunk - not each sentence in a chunk.\n",
        "chunk_embeddings = model.encode(content_chunks)\n",
        "\n",
        "for i in range(len(question_embeddings)):\n",
        "    # Calculating the similarity to each chunk.\n",
        "    chunk_similarity = cosine_similarity(question_embeddings[i].reshape(1, -1), chunk_embeddings)[0]\n",
        "    # Finding the most similar chunk and adding the question to its batch.\n",
        "    most_similar_chunk = np.argmax(chunk_similarity)\n",
        "    question_batches[most_similar_chunk].append(questions[i])\n",
        "\n",
        "print (question_batches)"
      ]
    },
    {
      "cell_type": "markdown",
      "source": [
        "Step 3: Make API calls using the chunks."
      ],
      "metadata": {
        "id": "7vplyXH09snK"
      },
      "id": "7vplyXH09snK"
    },
    {
      "cell_type": "code",
      "source": [
        "system_prompt = \"\"\"\n",
        "    Answer each of the inputted questions using the information provided to you in the prompt. Each answer should be a **single** string in the JSON response.\n",
        "    There should be **exactly** one answer for each inputted question, no more, no less.\n",
        "    * **Accuracy and Precision:** Provide direct, factual answers. **Do not** create or merge any of the questions.\n",
        "    * **Source Constraint:** Use *only* information explicitly present in the transcript. Do not infer, speculate, or bring in outside knowledge.\n",
        "    * **Completeness:** Ensure each answer fully addresses the question, *to the extent possible with the given transcript*.\n",
        "    * **Missing Information:** If the information required to answer a question is not discussed or cannot be directly derived from the transcript, respond with \"N/A\".\n",
        "\"\"\"\n",
        "\n",
        "answers = {}\n",
        "\n",
        "for i in range(len(content_chunks)):\n",
        "    # If there are no questions for the current chunk we don't need to bother querying.\n",
        "    if len(question_batches[i]) == 0:\n",
        "        continue\n",
        "\n",
        "  # Making the API call to the Gemini model\n",
        "    response = client.models.generate_content(\n",
        "        model=\"gemini-2.5-flash\",\n",
        "        config=types.GenerateContentConfig(\n",
        "            system_instruction=system_prompt,\n",
        "            response_mime_type = \"application/json\",\n",
        "            response_schema = list[str]\n",
        "        ),\n",
        "        contents=[f'Content:\\n{content_chunks[i]}', f'\\nQuestion:\\n{question_batches[i]}']\n",
        "    )\n",
        "\n",
        "    response_parsed = json.loads(response.text)\n",
        "\n",
        "    for j in range(len(question_batches[i])):\n",
        "        answers[question_batches[i][j]] = response_parsed[j]\n",
        "\n",
        "print(\"First 10 Answers:\")\n",
        "for key in (list(answers.keys())[:10]):\n",
        "    print (f\"{key}\\n\\t{answers[key]}\")\n"
      ],
      "metadata": {
        "id": "woyvzv6B92YT",
        "outputId": "b44d744d-b13d-411b-b803-0672c5b7d507",
        "colab": {
          "base_uri": "https://localhost:8080/"
        }
      },
      "id": "woyvzv6B92YT",
      "execution_count": 8,
      "outputs": [
        {
          "output_type": "stream",
          "name": "stdout",
          "text": [
            "First 10 Answers:\n",
            "What is the goal of MIT 6.00 (Introduction to Computer Science and Programming)?\n",
            "\tThe goal of the course is to help everybody learn about computation, help students learn how to think like a computer scientist, and provide an understanding of the role computation can and cannot play in tackling technical problems.\n",
            "Who teaches the course?\n",
            "\tEric Grimson and John Guttag teach the course.\n",
            "What kind of students is this course intended for?\n",
            "\tThis course is primarily aimed at students who have little or no prior programming experience.\n",
            "What are the strategic and tactical goals of the course?\n",
            "\tThe strategic goals are to prepare freshmen and sophomores interested in majoring in course six to get an easy entry into the department, help students not majoring in course six feel justifiably confident in their ability to write and read small pieces of code, give all students an understanding of the role computation can and cannot play in tackling technical problems, and position all students to compete for things like office and summer jobs. The tactical skills/goals are to be able to use the basic tools of computational thinking to write small scale programs, use a vocabulary of computational tools to understand programs written by others, understand the fundamental capabilities and limitations of computations and their costs, and map scientific problems into a computational frame.\n",
            "What programming language is used in the course?\n",
            "\tThe programming language used in the course is Python.\n",
            "Are there any textbooks required for the course?\n",
            "\tThere is no required text. A suggested textbook can be found on the course website.\n",
            "How are grades calculated in the course?\n",
            "\tGrades for the course are assigned with 55% from problem sets and 45% from quizzes (10%, 15%, and 20%) and a final exam.\n",
            "What does it mean to think like a computer scientist?\n",
            "\tN/A\n",
            "How is the course structured (lectures, recitations, workload)?\n",
            "\tThe course is structured with lectures, assigned readings, and recitations. Recitations will cover material not found in lectures or readings. While not explicitly detailed, the workload includes taking notes and engaging with material from lectures, readings, and recitations.\n",
            "How are quizzes and exams administered (e.g., open book)?\n",
            "\tN/A\n"
          ]
        }
      ]
    }
  ],
  "metadata": {
    "kernelspec": {
      "display_name": "gsoc",
      "language": "python",
      "name": "python3"
    },
    "language_info": {
      "name": "python",
      "version": "3.11.11"
    },
    "colab": {
      "provenance": []
    }
  },
  "nbformat": 4,
  "nbformat_minor": 5
}