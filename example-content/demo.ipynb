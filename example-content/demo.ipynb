{
 "cells": [
  {
   "cell_type": "code",
   "execution_count": 1,
   "id": "ced8a63b",
   "metadata": {},
   "outputs": [],
   "source": [
    "# Setup\n",
    "\n",
    "import os\n",
    "from dotenv import load_dotenv\n",
    "\n",
    "from gemini_efficient_api_calls.geminiapi import GeminiApi\n",
    "\n",
    "load_dotenv()\n",
    "\n",
    "GEMINI_API_KEY = os.getenv(\"GEMINI_API_KEY\")\n",
    "\n",
    "# GeminiApi is a wrapper over the google genai library.\n",
    "client = GeminiApi(GEMINI_API_KEY, \"gemini-2.0-flash\")"
   ]
  },
  {
   "cell_type": "code",
   "execution_count": 2,
   "id": "a7daa276",
   "metadata": {},
   "outputs": [],
   "source": [
    "# Generating the content and questions to ask about.\n",
    "# The content was gathered from a MIT lecture transcript which is accessible at https://ocw.mit.edu/courses/6-00-introduction-to-computer-science-and-programming-fall-2008/\n",
    "\n",
    "CONTENT_FILE_PATH = \"content.txt\"\n",
    "QUESTION_FILE_PATH = \"questions.txt\"\n",
    "\n",
    "content = \"\"\n",
    "with open(CONTENT_FILE_PATH, 'r', encoding='utf-8') as file:\n",
    "    content = file.read()\n",
    "    \n",
    "questions = []\n",
    "with open(QUESTION_FILE_PATH, 'r', encoding='utf-8') as file:\n",
    "    for question in file:\n",
    "        questions.append(question.strip())\n",
    "    \n",
    "# TODO: Added number to the questions to make it clearer, is there a better way to do this?\n",
    "for i in range(len(questions)):\n",
    "    questions[i] = f'{i+1}: {questions[i]}'\n"
   ]
  },
  {
   "cell_type": "code",
   "execution_count": null,
   "id": "498b423d",
   "metadata": {},
   "outputs": [
    {
     "name": "stdout",
     "output_type": "stream",
     "text": [
      "Question: 1: What is the goal of MIT 6.00 (Introduction to Computer Science and Programming)?\n",
      "Answer: The goal of 6.00 is to help students learn about computation.\n"
     ]
    }
   ],
   "source": [
    "# Generates a list of answers to the inputted questions using the information in the content provided.\n",
    "answers = client.generate_content_fixed(content, questions)\n",
    "\n",
    "print(f'Question{questions[0]}\\nAnswer: {answers[\"text\"][questions[0]]}')\n",
    "    "
   ]
  },
  {
   "cell_type": "markdown",
   "id": "bda0a782",
   "metadata": {},
   "source": [
    "Batching"
   ]
  },
  {
   "cell_type": "code",
   "execution_count": null,
   "id": "8424b6bc",
   "metadata": {},
   "outputs": [],
   "source": [
    "# We can compare the number of tokens required when batching a different number of questions with one another.\n",
    "answers = client.generate_content_fixed(content, questions, questions_per_batch=1)"
   ]
  }
 ],
 "metadata": {
  "kernelspec": {
   "display_name": "gsoc",
   "language": "python",
   "name": "python3"
  },
  "language_info": {
   "codemirror_mode": {
    "name": "ipython",
    "version": 3
   },
   "file_extension": ".py",
   "mimetype": "text/x-python",
   "name": "python",
   "nbconvert_exporter": "python",
   "pygments_lexer": "ipython3",
   "version": "3.11.11"
  }
 },
 "nbformat": 4,
 "nbformat_minor": 5
}
